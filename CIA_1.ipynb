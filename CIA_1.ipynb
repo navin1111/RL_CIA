{
 "cells": [
  {
   "cell_type": "code",
   "execution_count": null,
   "metadata": {},
   "outputs": [],
   "source": []
  },
  {
   "cell_type": "code",
   "execution_count": 1,
   "metadata": {},
   "outputs": [],
   "source": [
    "import numpy as np\n",
    "import pandas as pd\n",
    "from typing import List, Dict\n",
    "import random\n",
    "from datetime import datetime"
   ]
  },
  {
   "cell_type": "code",
   "execution_count": 2,
   "metadata": {},
   "outputs": [],
   "source": [
    "class ProductBandit:\n",
    "    def __init__(self, product_data: pd.DataFrame, epsilon: float = 0.1, decay_rate: float = 0.001):\n",
    "        self.product_data = product_data\n",
    "        self.initial_epsilon = epsilon\n",
    "        self.current_epsilon = epsilon\n",
    "        self.decay_rate = decay_rate\n",
    "        \n",
    "        # Initialize estimates using available product data\n",
    "        self.reward_estimates = {pid: 0.0 for pid in product_data['product_id']}\n",
    "        self.selection_counts = {pid: 0 for pid in product_data['product_id']}\n",
    "        self.total_rewards = {pid: 0.0 for pid in product_data['product_id']}\n",
    "\n",
    "    def select_product(self) -> str:\n",
    "        if random.random() < self.current_epsilon:\n",
    "            # Exploration: randomly select a product\n",
    "            return self.product_data.sample(1)['product_id'].iloc[0]\n",
    "        else:\n",
    "            # Exploitation: select product with highest estimated reward\n",
    "            return max(self.reward_estimates.items(), key=lambda x: x[1])[0]\n",
    "\n",
    "    def update_reward(self, product_id: str, reward: float):\n",
    "        self.selection_counts[product_id] += 1\n",
    "        self.total_rewards[product_id] += reward\n",
    "        \n",
    "        n = self.selection_counts[product_id]\n",
    "        current_estimate = self.reward_estimates[product_id]\n",
    "        self.reward_estimates[product_id] = ((n - 1) * current_estimate + reward) / n\n",
    "\n",
    "    def get_product_stats(self) -> pd.DataFrame:\n",
    "        stats = []\n",
    "        for pid in self.product_data['product_id']:\n",
    "            stats.append({\n",
    "                'product_id': pid,\n",
    "                'estimated_reward': self.reward_estimates[pid],\n",
    "                'times_selected': self.selection_counts[pid],\n",
    "                'total_reward': self.total_rewards[pid],\n",
    "                'average_reward': self.total_rewards[pid] / max(1, self.selection_counts[pid])\n",
    "            })\n",
    "        return pd.DataFrame(stats)\n"
   ]
  },
  {
   "cell_type": "code",
   "execution_count": 3,
   "metadata": {},
   "outputs": [],
   "source": [
    "product_data = pd.DataFrame({\n",
    "    'product_id': [f'P{i:03d}' for i in range(10)],\n",
    "    'price': np.random.uniform(10, 1000, 10),\n",
    "    'category': np.random.choice(['Electronics', 'Clothing', 'Books', 'Home'], 10),\n",
    "    'avg_rating': np.random.uniform(3, 5, 10)\n",
    "})\n",
    "\n",
    "# Create sample interactions\n",
    "interaction_data = pd.DataFrame({\n",
    "    'user_id': [f'U{i:03d}' for i in range(100)],\n",
    "    'product_id': [f'P{np.random.randint(0, 10):03d}' for _ in range(100)],\n",
    "    'interaction_type': np.random.choice(['view', 'purchase', 'cart'], 100)\n",
    "})"
   ]
  },
  {
   "cell_type": "code",
   "execution_count": 4,
   "metadata": {},
   "outputs": [],
   "source": [
    "recommender = ProductBandit(product_data)\n",
    "\n",
    "# Train with historical data\n",
    "for _, interaction in interaction_data.iterrows():\n",
    "    reward = 1.0 if interaction['interaction_type'] == 'purchase' else 0.5 if interaction['interaction_type'] == 'cart' else 0.1\n",
    "    recommender.update_reward(interaction['product_id'], reward)"
   ]
  },
  {
   "cell_type": "code",
   "execution_count": 5,
   "metadata": {},
   "outputs": [
    {
     "name": "stdout",
     "output_type": "stream",
     "text": [
      "Top 5 Product Recommendations:\n",
      "\n",
      "Recommendation 1:\n",
      "Product ID: P006\n",
      "Category: Home\n",
      "Price: $686.64\n",
      "Average Rating: 3.60\n",
      "\n",
      "Recommendation 2:\n",
      "Product ID: P006\n",
      "Category: Home\n",
      "Price: $686.64\n",
      "Average Rating: 3.60\n",
      "\n",
      "Recommendation 3:\n",
      "Product ID: P006\n",
      "Category: Home\n",
      "Price: $686.64\n",
      "Average Rating: 3.60\n",
      "\n",
      "Recommendation 4:\n",
      "Product ID: P006\n",
      "Category: Home\n",
      "Price: $686.64\n",
      "Average Rating: 3.60\n",
      "\n",
      "Recommendation 5:\n",
      "Product ID: P006\n",
      "Category: Home\n",
      "Price: $686.64\n",
      "Average Rating: 3.60\n"
     ]
    }
   ],
   "source": [
    "print(\"Top 5 Product Recommendations:\")\n",
    "for i in range(5):\n",
    "    recommended_product = recommender.select_product()\n",
    "    product_info = product_data[product_data['product_id'] == recommended_product].iloc[0]\n",
    "    print(f\"\\nRecommendation {i+1}:\")\n",
    "    print(f\"Product ID: {product_info['product_id']}\")\n",
    "    print(f\"Category: {product_info['category']}\")\n",
    "    print(f\"Price: ${product_info['price']:.2f}\")\n",
    "    print(f\"Average Rating: {product_info['avg_rating']:.2f}\")"
   ]
  },
  {
   "cell_type": "code",
   "execution_count": 6,
   "metadata": {},
   "outputs": [
    {
     "name": "stdout",
     "output_type": "stream",
     "text": [
      "\n",
      "Product Performance Statistics:\n",
      "  product_id  estimated_reward  times_selected  total_reward  average_reward\n",
      "6       P006          0.733333               9           6.6        0.733333\n",
      "8       P008          0.709091              11           7.8        0.709091\n",
      "0       P000          0.641667              12           7.7        0.641667\n",
      "9       P009          0.635714              14           8.9        0.635714\n",
      "3       P003          0.581250              16           9.3        0.581250\n",
      "4       P004          0.475000               8           3.8        0.475000\n",
      "7       P007          0.457143               7           3.2        0.457143\n",
      "2       P002          0.454545              11           5.0        0.454545\n",
      "5       P005          0.450000               6           2.7        0.450000\n",
      "1       P001          0.400000               6           2.4        0.400000\n"
     ]
    }
   ],
   "source": [
    "stats = recommender.get_product_stats()\n",
    "print(\"\\nProduct Performance Statistics:\")\n",
    "print(stats.sort_values('estimated_reward', ascending=False))"
   ]
  },
  {
   "cell_type": "code",
   "execution_count": null,
   "metadata": {},
   "outputs": [],
   "source": []
  }
 ],
 "metadata": {
  "kernelspec": {
   "display_name": "Python 3",
   "language": "python",
   "name": "python3"
  },
  "language_info": {
   "codemirror_mode": {
    "name": "ipython",
    "version": 3
   },
   "file_extension": ".py",
   "mimetype": "text/x-python",
   "name": "python",
   "nbconvert_exporter": "python",
   "pygments_lexer": "ipython3",
   "version": "3.12.1"
  }
 },
 "nbformat": 4,
 "nbformat_minor": 2
}
